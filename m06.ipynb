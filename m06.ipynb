{
 "cells": [
  {
   "cell_type": "markdown",
   "metadata": {},
   "source": [
    "Write the Current Date as a string to the text file today.txt"
   ]
  },
  {
   "cell_type": "code",
   "execution_count": null,
   "metadata": {},
   "outputs": [],
   "source": [
    "from datetime import date\n",
    "todaysDate = date.today()\n",
    "todayString = todaysDate.now.isoformat()\n",
    "with open('today.txt', 'wt') as output:\n",
    "    print(todayString, file=output)"
   ]
  },
  {
   "cell_type": "markdown",
   "metadata": {},
   "source": [
    "Read the text file today.txt into the string today_string."
   ]
  },
  {
   "cell_type": "code",
   "execution_count": null,
   "metadata": {},
   "outputs": [],
   "source": [
    "with open('today.txt', 'rt') as input:\n",
    "    today_string = input.read()\n",
    "    \n",
    "    \n",
    "    "
   ]
  },
  {
   "cell_type": "markdown",
   "metadata": {},
   "source": [
    "Parse the date from today_string."
   ]
  },
  {
   "cell_type": "code",
   "execution_count": null,
   "metadata": {},
   "outputs": [],
   "source": [
    "x = '%Y-%m-%d\\n'\n",
    "\n",
    "datetime.strptime(today_string, x)"
   ]
  },
  {
   "cell_type": "markdown",
   "metadata": {},
   "source": [
    "Use multiprocessing to create three separate processes. Make each one wait a random number of seconds between zero and one, print the current time, and then exit."
   ]
  },
  {
   "cell_type": "code",
   "execution_count": null,
   "metadata": {},
   "outputs": [],
   "source": [
    "import multiprocessing\n",
    "\n",
    "def today(seconds):\n",
    "    from datetime import datetime\n",
    "    from time import sleep\n",
    "    sleep(seconds)\n",
    "    print('hold on for ', seconds, 'seconds, the current time is', datetime.utcnow())\n",
    "\n",
    "if __name__ == '__main__':\n",
    "    import random\n",
    "    for n in range(3):\n",
    "        seconds = random.random()\n",
    "        proc = multiprocessing.Process(target=today, args=(seconds,))\n",
    "        proc.start()"
   ]
  }
 ],
 "metadata": {
  "language_info": {
   "name": "python"
  },
  "orig_nbformat": 4
 },
 "nbformat": 4,
 "nbformat_minor": 2
}
